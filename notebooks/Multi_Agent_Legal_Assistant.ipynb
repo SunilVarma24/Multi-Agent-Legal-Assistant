{
  "cells": [
    {
      "cell_type": "markdown",
      "metadata": {
        "id": "Blhro8SaYqfp"
      },
      "source": [
        "# **Load the OPENAI API Key**"
      ]
    },
    {
      "cell_type": "code",
      "execution_count": null,
      "metadata": {
        "id": "NkQ1D0NcBvLF"
      },
      "outputs": [],
      "source": [
        "import os\n",
        "import yaml\n",
        "\n",
        "with open(\"openai_key.yaml\", 'r') as file:\n",
        "    api_creds = yaml.safe_load(file)\n",
        "\n",
        "os.environ[\"OPENAI_API_KEY\"] = api_creds['openai_key']"
      ]
    },
    {
      "cell_type": "markdown",
      "metadata": {
        "id": "dgqt1KNNYxVH"
      },
      "source": [
        "# **Import Required Libraries**"
      ]
    },
    {
      "cell_type": "code",
      "execution_count": 5,
      "metadata": {
        "id": "f8ZqHSgDBSnn"
      },
      "outputs": [],
      "source": [
        "import operator\n",
        "from typing import Annotated, Sequence, TypedDict, Literal, List\n",
        "from langchain.document_loaders import PyMuPDFLoader\n",
        "from langchain.text_splitter import RecursiveCharacterTextSplitter\n",
        "from langchain.embeddings import HuggingFaceEmbeddings\n",
        "from langchain.vectorstores import FAISS\n",
        "from langchain_core.messages import BaseMessage, AIMessage, HumanMessage\n",
        "from langchain_openai import ChatOpenAI\n",
        "from langchain_core.prompts import ChatPromptTemplate, MessagesPlaceholder\n",
        "from langgraph.graph import END, StateGraph"
      ]
    },
    {
      "cell_type": "markdown",
      "metadata": {
        "id": "i1mzgizsY-uP"
      },
      "source": [
        "# **Document Processing**"
      ]
    },
    {
      "cell_type": "code",
      "execution_count": 6,
      "metadata": {
        "id": "TJ8kG1_hBgM_"
      },
      "outputs": [],
      "source": [
        "guide_pdf_path = \"/content/Guide-to-Litigation-in-India.pdf\"\n",
        "corporate_pdf_path = \"/content/Legal-Compliance-&-Corporate-Laws-by-ICAI.pdf\"\n",
        "\n",
        "loader_guide = PyMuPDFLoader(guide_pdf_path)\n",
        "loader_corporate = PyMuPDFLoader(corporate_pdf_path)\n",
        "\n",
        "docs_guide = loader_guide.load()\n",
        "docs_corporate = loader_corporate.load()\n",
        "all_docs = docs_guide + docs_corporate\n",
        "\n",
        "# Chunking & Indexing:\n",
        "text_splitter = RecursiveCharacterTextSplitter(chunk_size=2000, chunk_overlap=200)\n",
        "chunks = text_splitter.split_documents(all_docs)\n",
        "\n",
        "embeddings = HuggingFaceEmbeddings(model_name=\"BAAI/bge-small-en-v1.5\")\n",
        "vector_store = FAISS.from_documents(chunks, embeddings)"
      ]
    },
    {
      "cell_type": "markdown",
      "metadata": {
        "id": "y1sEyOafZwpS"
      },
      "source": [
        "# **Agent State**"
      ]
    },
    {
      "cell_type": "code",
      "execution_count": 7,
      "metadata": {
        "id": "RtojtIH7EXM4"
      },
      "outputs": [],
      "source": [
        "# 3. Define the Agent State structure\n",
        "class AgentState(TypedDict):\n",
        "    messages: Annotated[Sequence[BaseMessage], operator.add]\n",
        "    sender: str"
      ]
    },
    {
      "cell_type": "markdown",
      "metadata": {
        "id": "oB74t6XxZ0j1"
      },
      "source": [
        "# **Create Agents**"
      ]
    },
    {
      "cell_type": "code",
      "execution_count": 8,
      "metadata": {
        "id": "lSenKVMHE8tQ"
      },
      "outputs": [],
      "source": [
        "# Query Agent\n",
        "def query_agent_node(state: AgentState) -> AgentState:\n",
        "    # Extract user query from the last message\n",
        "    user_query = state[\"messages\"][-1].content\n",
        "    # Retrieve relevant document chunks (e.g., top 5 results)\n",
        "    results = vector_store.similarity_search(user_query, k=5)\n",
        "    # Concatenate the retrieved sections\n",
        "    retrieved_text = \"\\n\\n\".join([doc.page_content for doc in results])\n",
        "    # Prefix with an indicator to trigger the next agent\n",
        "    content = f\"RETRIEVAL COMPLETE\\n\\n{retrieved_text}\"\n",
        "    return {\n",
        "        \"messages\": [AIMessage(content=content, name=\"Query_Agent\")],\n",
        "        \"sender\": \"Query_Agent\"\n",
        "    }\n",
        "\n",
        "# Summarization Agent\n",
        "legal_summarization_prompt = ChatPromptTemplate.from_messages([\n",
        "    (\"system\",\n",
        "     \"You are a Legal Summarization Assistant. \"\n",
        "     \"Your task is to provide a **concise and neutral summary** of the legal procedure in India. \"\n",
        "     \"Summarize the **standard** steps of the process, avoiding unnecessary focus on **specific cases** like government lawsuits, foreign state cases, or mediation unless they are the primary focus. \"\n",
        "     \"Ensure the response represents the **general filing process** fairly and does not highlight **exceptions** unless required. \"\n",
        "     \"Use **clear and simple language** suitable for a general audience. \"\n",
        "     \"Limit your response to **2-3 sentences** and ensure it begins with 'SUMMARY COMPLETE'.\"),\n",
        "    MessagesPlaceholder(variable_name=\"messages\"),\n",
        "])\n",
        "\n",
        "summarization_llm = ChatOpenAI(model=\"gpt-4o-mini\", temperature=0)\n",
        "summarization_agent = legal_summarization_prompt | summarization_llm\n",
        "\n",
        "def summarization_agent_node(state: AgentState) -> AgentState:\n",
        "    result = summarization_agent.invoke(state)\n",
        "    result_message = AIMessage(content=result.content, name=\"Summarization_Agent\")\n",
        "    return {\n",
        "        \"messages\": [result_message],\n",
        "        \"sender\": \"Summarization_Agent\"\n",
        "    }"
      ]
    },
    {
      "cell_type": "markdown",
      "metadata": {
        "id": "bimr2UNsaef-"
      },
      "source": [
        "# **Agent Router Logic**"
      ]
    },
    {
      "cell_type": "code",
      "execution_count": 9,
      "metadata": {
        "id": "Ekg8PvznFIMg"
      },
      "outputs": [],
      "source": [
        "# Define Router Logic to direct the flow between agents\n",
        "def router(state: AgentState) -> str:\n",
        "    messages = state['messages']\n",
        "\n",
        "    # Check the last message to determine next step\n",
        "    last_message = messages[-1]\n",
        "\n",
        "    # If the last message is from the Query Agent and contains retrieval results\n",
        "    if isinstance(last_message, AIMessage) and \"RETRIEVAL COMPLETE\" in last_message.content:\n",
        "        return \"continue_to_summarization\"\n",
        "\n",
        "    # If we've already processed the query, end the workflow\n",
        "    return \"__end__\""
      ]
    },
    {
      "cell_type": "markdown",
      "metadata": {
        "id": "7g7dRSzUbhX5"
      },
      "source": [
        "# **Agent Graph**"
      ]
    },
    {
      "cell_type": "code",
      "execution_count": 16,
      "metadata": {
        "id": "bxbLk-AhFe8c"
      },
      "outputs": [],
      "source": [
        "# 6. Define the Multi-Agent Graph\n",
        "workflow = StateGraph(AgentState)\n",
        "\n",
        "# Add agent nodes\n",
        "workflow.add_node(\"Query_Agent\", query_agent_node)\n",
        "workflow.add_node(\"Summarization_Agent\", summarization_agent_node)\n",
        "\n",
        "# Define edges from Query Agent based on router output.\n",
        "workflow.add_conditional_edges(\n",
        "    \"Query_Agent\",\n",
        "    router,\n",
        "    {\n",
        "        \"continue_to_summarization\": \"Summarization_Agent\"\n",
        "    }\n",
        ")\n",
        "\n",
        "# Define edges from Summarization Agent.\n",
        "workflow.add_conditional_edges(\n",
        "    \"Summarization_Agent\",\n",
        "    router,\n",
        "    {\n",
        "        \"__end__\": END\n",
        "    }\n",
        ")\n",
        "\n",
        "# Set the entry point for the workflow.\n",
        "workflow.set_entry_point(\"Query_Agent\")\n",
        "agent_workflow = workflow.compile()"
      ]
    },
    {
      "cell_type": "code",
      "execution_count": 17,
      "metadata": {
        "colab": {
          "base_uri": "https://localhost:8080/",
          "height": 374
        },
        "id": "iAMmb2D6GGSY",
        "outputId": "582df924-d7c1-472a-8f01-6f08830c2b87"
      },
      "outputs": [
        {
          "data": {
            "image/png": "[encoded data removed]",
            "text/plain": [
              "<IPython.core.display.Image object>"
            ]
          },
          "metadata": {},
          "output_type": "display_data"
        }
      ],
      "source": [
        "# Visualize the graph\n",
        "from IPython.display import Image, display\n",
        "\n",
        "display(Image(agent_workflow.get_graph().draw_mermaid_png()))"
      ]
    },
    {
      "cell_type": "markdown",
      "metadata": {
        "id": "8dJmjuF_blz5"
      },
      "source": [
        "# **Test the Multi-Agent Legal Assistant**"
      ]
    },
    {
      "cell_type": "code",
      "execution_count": 18,
      "metadata": {
        "colab": {
          "base_uri": "https://localhost:8080/",
          "height": 81
        },
        "id": "TLP-4fBRAG55",
        "outputId": "1d850b20-ef8e-44aa-f509-65f6015415d9"
      },
      "outputs": [
        {
          "data": {
            "text/markdown": [
              "In India, to file a lawsuit against a government authority, a plaintiff must first issue a written notice of at least two months detailing the dispute and claim. If urgent relief is needed, the suit can be filed sooner with the court's permission, but the defendant must be given a reasonable opportunity to respond. Additionally, civil proceedings against a foreign state require prior written consent from the Indian Government, which is granted only under specific conditions."
            ],
            "text/plain": [
              "<IPython.core.display.Markdown object>"
            ]
          },
          "metadata": {},
          "output_type": "display_data"
        }
      ],
      "source": [
        "# Test the Multi-Agent System\n",
        "test_prompt = \"What are the steps involved in filing a lawsuit against government authority in India?\"\n",
        "initial_state = {\n",
        "    \"messages\": [HumanMessage(content=test_prompt)],\n",
        "}\n",
        "\n",
        "response = agent_workflow.invoke(initial_state)\n",
        "\n",
        "# Display the final output (summary)\n",
        "from IPython.display import display, Markdown\n",
        "final_summary = response[\"messages\"][-1].content.replace(\"SUMMARY COMPLETE: \", \"\", 1)\n",
        "\n",
        "display(Markdown(final_summary))\n"
      ]
    }
  ],
  "metadata": {
    "colab": {
      "provenance": []
    },
    "kernelspec": {
      "display_name": "venv",
      "language": "python",
      "name": "python3"
    },
    "language_info": {
      "name": "python",
      "version": "3.12.4"
    }
  },
  "nbformat": 4,
  "nbformat_minor": 0
}
